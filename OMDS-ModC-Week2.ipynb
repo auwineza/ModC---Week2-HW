{
 "cells": [
  {
   "cell_type": "markdown",
   "id": "aaa92f47",
   "metadata": {},
   "source": [
    "# Week 2 — Linear Regression II on CKD Dataset\n",
    "**Regularization: Ridge, Lasso, Elastic Net**  \n",
    "**Created:** 2025-09-22 00:29\n",
    "\n",
    "This notebook applies regularized linear models to the uploaded **Chronic_Kidney_Dsease_data.csv** to predict **GFR**.\n",
    "\n",
    "**Models**\n",
    "- OLS baseline\n",
    "- RidgeCV\n",
    "- LassoCV\n",
    "- ElasticNetCV\n",
    "\n",
    "It includes cross‑validated metrics, residual diagnostics, and coefficient inspection. Fill in the **Takeaways** at the end for peer review.\n"
   ]
  },
  {
   "cell_type": "markdown",
   "id": "34f1f46f",
   "metadata": {},
   "source": [
    "## 0) Configuration"
   ]
  },
  {
   "cell_type": "code",
   "execution_count": null,
   "id": "a4f14965",
   "metadata": {},
   "outputs": [],
   "source": [
    "# Paths & settings\n",
    "DATA_PATH = \"/mnt/data/Chronic_Kidney_Dsease_data.csv\"\n",
    "TARGET = \"GFR\"           # continuous target for regression\n",
    "TEST_SIZE = 0.2\n",
    "CV_FOLDS = 5\n",
    "RANDOM_STATE = 42\n",
    "\n",
    "# Columns to drop (IDs / leakage)\n",
    "DROP_COLS = [\"PatientID\"]\n",
    "\n",
    "# Optionally log-transform target if heavily right-skewed\n",
    "LOG_TARGET = False  # set True after inspecting target distribution\n"
   ]
  },
  {
   "cell_type": "markdown",
   "id": "7f830219",
   "metadata": {},
   "source": [
    "## 1) Imports"
   ]
  },
  {
   "cell_type": "code",
   "execution_count": null,
   "id": "54a7de52",
   "metadata": {},
   "outputs": [],
   "source": [
    "import numpy as np\n",
    "import pandas as pd\n",
    "\n",
    "from sklearn.model_selection import train_test_split, cross_val_score\n",
    "from sklearn.compose import ColumnTransformer\n",
    "from sklearn.preprocessing import OneHotEncoder, StandardScaler\n",
    "from sklearn.impute import SimpleImputer\n",
    "from sklearn.pipeline import Pipeline\n",
    "from sklearn.linear_model import LinearRegression, RidgeCV, LassoCV, ElasticNetCV\n",
    "from sklearn.metrics import mean_absolute_error, mean_squared_error, r2_score\n",
    "\n",
    "import matplotlib.pyplot as plt\n",
    "from pathlib import Path\n",
    "from IPython.display import display\n",
    "\n",
    "pd.set_option(\"display.max_columns\", 200)\n"
   ]
  },
  {
   "cell_type": "markdown",
   "id": "dbb2a9f2",
   "metadata": {},
   "source": [
    "## 2) Load & preview data"
   ]
  },
  {
   "cell_type": "code",
   "execution_count": null,
   "id": "dad116ba",
   "metadata": {},
   "outputs": [],
   "source": [
    "path = Path(DATA_PATH)\n",
    "assert path.exists(), f\"Not found: {path}\"\n",
    "df = pd.read_csv(path)\n",
    "\n",
    "# Drop non-features\n",
    "for c in DROP_COLS:\n",
    "    if c in df.columns:\n",
    "        df = df.drop(columns=c)\n",
    "\n",
    "print(\"✅ Loaded:\", df.shape)\n",
    "display(df.head(3))\n",
    "print(\"\\nNulls per column (top 20):\")\n",
    "print(df.isna().sum().sort_values(ascending=False).head(20))\n",
    "\n",
    "# Quick target peek\n",
    "assert TARGET in df.columns, f\"TARGET '{TARGET}' not found.\"\n",
    "plt.figure(figsize=(6,4))\n",
    "plt.hist(df[TARGET].dropna(), bins=30)\n",
    "plt.title(f\"Target distribution: {TARGET}\")\n",
    "plt.xlabel(TARGET); plt.ylabel(\"Count\")\n",
    "plt.show()\n"
   ]
  },
  {
   "cell_type": "markdown",
   "id": "30be9905",
   "metadata": {},
   "source": [
    "## 3) Define features & target"
   ]
  },
  {
   "cell_type": "code",
   "execution_count": null,
   "id": "7942bcfb",
   "metadata": {},
   "outputs": [],
   "source": [
    "y_raw = df[TARGET].astype(float)\n",
    "X = df.drop(columns=[TARGET])\n",
    "\n",
    "num_cols = X.select_dtypes(include=[np.number]).columns.tolist()\n",
    "cat_cols = X.select_dtypes(exclude=[np.number]).columns.tolist()\n",
    "\n",
    "print(f\"Numerical: {len(num_cols)} | Categorical: {len(cat_cols)}\")\n",
    "\n",
    "y = np.log1p(y_raw) if LOG_TARGET else y_raw\n"
   ]
  },
  {
   "cell_type": "markdown",
   "id": "a7b81935",
   "metadata": {},
   "source": [
    "## 4) Preprocessing pipelines"
   ]
  },
  {
   "cell_type": "code",
   "execution_count": null,
   "id": "997ba699",
   "metadata": {},
   "outputs": [],
   "source": [
    "numeric_pre = Pipeline(steps=[\n",
    "    (\"imputer\", SimpleImputer(strategy=\"median\")),\n",
    "    (\"scaler\", StandardScaler())\n",
    "])\n",
    "\n",
    "categorical_pre = Pipeline(steps=[\n",
    "    (\"imputer\", SimpleImputer(strategy=\"most_frequent\")),\n",
    "    (\"onehot\", OneHotEncoder(handle_unknown=\"ignore\", sparse_output=False))\n",
    "])\n",
    "\n",
    "preprocess = ColumnTransformer(\n",
    "    transformers=[\n",
    "        (\"num\", numeric_pre, num_cols),\n",
    "        (\"cat\", categorical_pre, cat_cols),\n",
    "    ],\n",
    "    remainder=\"drop\"\n",
    ")\n"
   ]
  },
  {
   "cell_type": "markdown",
   "id": "6d68e200",
   "metadata": {},
   "source": [
    "## 5) Train / Test split"
   ]
  },
  {
   "cell_type": "code",
   "execution_count": null,
   "id": "30064c77",
   "metadata": {},
   "outputs": [],
   "source": [
    "X_train, X_test, y_train, y_test = train_test_split(\n",
    "    X, y, test_size=TEST_SIZE, random_state=RANDOM_STATE\n",
    ")\n",
    "print(\"Train:\", X_train.shape, \"| Test:\", X_test.shape)\n"
   ]
  },
  {
   "cell_type": "markdown",
   "id": "afb9b520",
   "metadata": {},
   "source": [
    "## 6) Helpers: metrics & residuals"
   ]
  },
  {
   "cell_type": "code",
   "execution_count": null,
   "id": "d80607fe",
   "metadata": {},
   "outputs": [],
   "source": [
    "def evaluate_predictions(y_true, y_pred, log_target=False):\n",
    "    if log_target:\n",
    "        y_true_lin = np.expm1(y_true)\n",
    "        y_pred_lin = np.expm1(y_pred)\n",
    "        mae = mean_absolute_error(y_true_lin, y_pred_lin)\n",
    "        rmse = mean_squared_error(y_true_lin, y_pred_lin, squared=False)\n",
    "        r2 = r2_score(y_true_lin, y_pred_lin)\n",
    "    else:\n",
    "        mae = mean_absolute_error(y_true, y_pred)\n",
    "        rmse = mean_squared_error(y_true, y_pred, squared=False)\n",
    "        r2 = r2_score(y_true, y_pred)\n",
    "    return mae, rmse, r2\n",
    "\n",
    "def residual_plot(y_true, y_pred, title=\"Residuals vs Predictions\"):\n",
    "    residuals = y_true - y_pred\n",
    "    plt.figure(figsize=(6,4))\n",
    "    plt.scatter(y_pred, residuals, alpha=0.5)\n",
    "    plt.axhline(0, linestyle=\"--\")\n",
    "    plt.xlabel(\"Predictions\")\n",
    "    plt.ylabel(\"Residuals\")\n",
    "    plt.title(title)\n",
    "    plt.show()\n"
   ]
  },
  {
   "cell_type": "markdown",
   "id": "97bad29e",
   "metadata": {},
   "source": [
    "## 7) Baseline: OLS"
   ]
  },
  {
   "cell_type": "code",
   "execution_count": null,
   "id": "e75129c0",
   "metadata": {},
   "outputs": [],
   "source": [
    "ols = Pipeline(steps=[\n",
    "    (\"preprocess\", preprocess),\n",
    "    (\"model\", LinearRegression())\n",
    "])\n",
    "ols.fit(X_train, y_train)\n",
    "\n",
    "ols_cv = cross_val_score(ols, X_train, y_train, cv=CV_FOLDS, scoring=\"neg_mean_squared_error\")\n",
    "cv_rmse = (-ols_cv.mean())**0.5\n",
    "print(f\"OLS CV RMSE: {cv_rmse:.4f} (log-space if LOG_TARGET=True)\")\n",
    "\n",
    "pred_tr = ols.predict(X_train); pred_te = ols.predict(X_test)\n",
    "ols_results = dict(\n",
    "    Model=\"OLS\",\n",
    "    MAE_train=evaluate_predictions(y_train, pred_tr, LOG_TARGET)[0],\n",
    "    RMSE_train=evaluate_predictions(y_train, pred_tr, LOG_TARGET)[1],\n",
    "    R2_train=evaluate_predictions(y_train, pred_tr, LOG_TARGET)[2],\n",
    "    MAE_test=evaluate_predictions(y_test, pred_te, LOG_TARGET)[0],\n",
    "    RMSE_test=evaluate_predictions(y_test, pred_te, LOG_TARGET)[1],\n",
    "    R2_test=evaluate_predictions(y_test, pred_te, LOG_TARGET)[2],\n",
    ")\n",
    "import pandas as pd\n",
    "pd.DataFrame([ols_results])\n"
   ]
  },
  {
   "cell_type": "markdown",
   "id": "8fbb9db1",
   "metadata": {},
   "source": [
    "## 8) Regularized models (CV)"
   ]
  },
  {
   "cell_type": "code",
   "execution_count": null,
   "id": "0aef5cff",
   "metadata": {},
   "outputs": [],
   "source": [
    "alphas = np.logspace(-3, 3, 60)\n"
   ]
  },
  {
   "cell_type": "markdown",
   "id": "8545442a",
   "metadata": {},
   "source": [
    "### 8.1 RidgeCV"
   ]
  },
  {
   "cell_type": "code",
   "execution_count": null,
   "id": "386ff8ef",
   "metadata": {},
   "outputs": [],
   "source": [
    "ridge = Pipeline(steps=[\n",
    "    (\"preprocess\", preprocess),\n",
    "    (\"model\", RidgeCV(alphas=alphas, cv=CV_FOLDS, scoring=\"neg_mean_squared_error\"))\n",
    "])\n",
    "ridge.fit(X_train, y_train)\n",
    "print(\"Best alpha (Ridge):\", ridge.named_steps[\"model\"].alpha_)\n",
    "\n",
    "pred_tr = ridge.predict(X_train); pred_te = ridge.predict(X_test)\n",
    "ridge_results = dict(\n",
    "    Model=\"RidgeCV\",\n",
    "    MAE_train=evaluate_predictions(y_train, pred_tr, LOG_TARGET)[0],\n",
    "    RMSE_train=evaluate_predictions(y_train, pred_tr, LOG_TARGET)[1],\n",
    "    R2_train=evaluate_predictions(y_train, pred_tr, LOG_TARGET)[2],\n",
    "    MAE_test=evaluate_predictions(y_test, pred_te, LOG_TARGET)[0],\n",
    "    RMSE_test=evaluate_predictions(y_test, pred_te, LOG_TARGET)[1],\n",
    "    R2_test=evaluate_predictions(y_test, pred_te, LOG_TARGET)[2],\n",
    ")\n",
    "pd.DataFrame([ols_results, ridge_results])\n"
   ]
  },
  {
   "cell_type": "markdown",
   "id": "c4d69f64",
   "metadata": {},
   "source": [
    "### 8.2 LassoCV"
   ]
  },
  {
   "cell_type": "code",
   "execution_count": null,
   "id": "de7b1152",
   "metadata": {},
   "outputs": [],
   "source": [
    "lasso = Pipeline(steps=[\n",
    "    (\"preprocess\", preprocess),\n",
    "    (\"model\", LassoCV(alphas=alphas, cv=CV_FOLDS, random_state=RANDOM_STATE, max_iter=20000))\n",
    "])\n",
    "lasso.fit(X_train, y_train)\n",
    "print(\"Best alpha (Lasso):\", lasso.named_steps[\"model\"].alpha_)\n",
    "\n",
    "pred_tr = lasso.predict(X_train); pred_te = lasso.predict(X_test)\n",
    "lasso_results = dict(\n",
    "    Model=\"LassoCV\",\n",
    "    MAE_train=evaluate_predictions(y_train, pred_tr, LOG_TARGET)[0],\n",
    "    RMSE_train=evaluate_predictions(y_train, pred_tr, LOG_TARGET)[1],\n",
    "    R2_train=evaluate_predictions(y_train, pred_tr, LOG_TARGET)[2],\n",
    "    MAE_test=evaluate_predictions(y_test, pred_te, LOG_TARGET)[0],\n",
    "    RMSE_test=evaluate_predictions(y_test, pred_te, LOG_TARGET)[1],\n",
    "    R2_test=evaluate_predictions(y_test, pred_te, LOG_TARGET)[2],\n",
    ")\n",
    "pd.DataFrame([ols_results, ridge_results, lasso_results])\n"
   ]
  },
  {
   "cell_type": "markdown",
   "id": "717986aa",
   "metadata": {},
   "source": [
    "### 8.3 ElasticNetCV"
   ]
  },
  {
   "cell_type": "code",
   "execution_count": null,
   "id": "7fb2ffd9",
   "metadata": {},
   "outputs": [],
   "source": [
    "elastic = Pipeline(steps=[\n",
    "    (\"preprocess\", preprocess),\n",
    "    (\"model\", ElasticNetCV(alphas=alphas, l1_ratio=[.2,.4,.6,.8,.9,.95,.99,1.0],\n",
    "                           cv=CV_FOLDS, random_state=RANDOM_STATE, max_iter=20000))\n",
    "])\n",
    "elastic.fit(X_train, y_train)\n",
    "print(\"Best alpha (ElasticNet):\", elastic.named_steps[\"model\"].alpha_)\n",
    "print(\"Best l1_ratio:\", elastic.named_steps[\"model\"].l1_ratio_)\n",
    "\n",
    "pred_tr = elastic.predict(X_train); pred_te = elastic.predict(X_test)\n",
    "elastic_results = dict(\n",
    "    Model=\"ElasticNetCV\",\n",
    "    MAE_train=evaluate_predictions(y_train, pred_tr, LOG_TARGET)[0],\n",
    "    RMSE_train=evaluate_predictions(y_train, pred_tr, LOG_TARGET)[1],\n",
    "    R2_train=evaluate_predictions(y_train, pred_tr, LOG_TARGET)[2],\n",
    "    MAE_test=evaluate_predictions(y_test, pred_te, LOG_TARGET)[0],\n",
    "    RMSE_test=evaluate_predictions(y_test, pred_te, LOG_TARGET)[1],\n",
    "    R2_test=evaluate_predictions(y_test, pred_te, LOG_TARGET)[2],\n",
    ")\n",
    "results = pd.DataFrame([ols_results, ridge_results, lasso_results, elastic_results])\n",
    "results\n"
   ]
  },
  {
   "cell_type": "markdown",
   "id": "699aafd9",
   "metadata": {},
   "source": [
    "## 9) Residual diagnostics (test set)"
   ]
  },
  {
   "cell_type": "code",
   "execution_count": null,
   "id": "4e12016b",
   "metadata": {},
   "outputs": [],
   "source": [
    "for name, pipe in [(\"OLS\", ols), (\"Ridge\", ridge), (\"Lasso\", lasso), (\"ElasticNet\", elastic)]:\n",
    "    preds = pipe.predict(X_test)\n",
    "    residual_plot(y_test, preds, title=f\"Residuals vs Predictions — {name} (log-target={LOG_TARGET})\")\n"
   ]
  },
  {
   "cell_type": "markdown",
   "id": "571e8333",
   "metadata": {},
   "source": [
    "## 10) Coefficient inspection"
   ]
  },
  {
   "cell_type": "code",
   "execution_count": null,
   "id": "9e8756e2",
   "metadata": {},
   "outputs": [],
   "source": [
    "def get_feature_names(preprocessor, num_cols, cat_cols):\n",
    "    num_names = preprocessor.named_transformers_[\"num\"].get_feature_names_out(num_cols)\n",
    "    if len(cat_cols) > 0:\n",
    "        cat_names = preprocessor.named_transformers_[\"cat\"].named_steps[\"onehot\"].get_feature_names_out(cat_cols)\n",
    "        return np.concatenate([num_names, cat_names])\n",
    "    return num_names\n",
    "\n",
    "def extract_coefficients(pipeline, label):\n",
    "    pre = pipeline.named_steps[\"preprocess\"]\n",
    "    feats = get_feature_names(pre, num_cols, cat_cols)\n",
    "    model = pipeline.named_steps[\"model\"]\n",
    "    coefs = getattr(model, \"coef_\", None)\n",
    "    return pd.DataFrame({\"feature\": feats, label: coefs})\n",
    "\n",
    "coef_ols = extract_coefficients(ols, \"OLS\")\n",
    "coef_ridge = extract_coefficients(ridge, \"Ridge\")\n",
    "coef_lasso = extract_coefficients(lasso, \"Lasso\")\n",
    "coef_elastic = extract_coefficients(elastic, \"ElasticNet\")\n",
    "\n",
    "coef_df = (coef_ols.merge(coef_ridge, on=\"feature\", how=\"outer\")\n",
    "                    .merge(coef_lasso, on=\"feature\", how=\"outer\")\n",
    "                    .merge(coef_elastic, on=\"feature\", how=\"outer\")).fillna(0)\n",
    "\n",
    "# Top absolute coefficients by ElasticNet\n",
    "coef_df[\"abs_elastic\"] = coef_df[\"ElasticNet\"].abs()\n",
    "topk = coef_df.sort_values(\"abs_elastic\", ascending=False).head(20)\n",
    "display(topk)\n",
    "\n",
    "plt.figure(figsize=(8,6))\n",
    "plt.barh(topk[\"feature\"], topk[\"ElasticNet\"])\n",
    "plt.gca().invert_yaxis()\n",
    "plt.title(\"Top ElasticNet Coefficients (absolute)\")\n",
    "plt.xlabel(\"Coefficient\")\n",
    "plt.tight_layout()\n",
    "plt.show()\n"
   ]
  },
  {
   "cell_type": "markdown",
   "id": "b7398c47",
   "metadata": {},
   "source": [
    "## 11) Save artifacts"
   ]
  },
  {
   "cell_type": "code",
   "execution_count": null,
   "id": "acac2959",
   "metadata": {},
   "outputs": [],
   "source": [
    "out_dir = Path(\"week2_outputs_ckd\")\n",
    "out_dir.mkdir(exist_ok=True)\n",
    "results.to_csv(out_dir / \"model_results.csv\", index=False)\n",
    "coef_df.to_csv(out_dir / \"coefficients_all_models.csv\", index=False)\n",
    "print(\"Saved:\", list(out_dir.glob(\"*.csv\")))\n"
   ]
  },
  {
   "cell_type": "markdown",
   "id": "73469e59",
   "metadata": {},
   "source": [
    "## 12) Takeaways (fill in before submitting)\n",
    "- **Which model generalized best** on **test RMSE** and **R²**? Why might that be?\n",
    "- **Regularization effects:** Any coefficients reduced to ~0 (Lasso)? Did Ridge/ElasticNet stabilize weights?\n",
    "- **Overfitting controls:** CV results vs. test set — any gaps?\n",
    "- **Residuals:** Any patterns (nonlinearity/heteroscedasticity) to address next?\n",
    "- **Next steps:** Feature engineering ideas (e.g., interactions, nonlinearity), or alternative models.\n"
   ]
  }
 ],
 "metadata": {},
 "nbformat": 4,
 "nbformat_minor": 5
}
